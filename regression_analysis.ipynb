{
  "nbformat": 4,
  "nbformat_minor": 0,
  "metadata": {
    "colab": {
      "provenance": [],
      "authorship_tag": "ABX9TyMmQz9pO0fTMzC+uiWQbhGd",
      "include_colab_link": true
    },
    "kernelspec": {
      "name": "python3",
      "display_name": "Python 3"
    },
    "language_info": {
      "name": "python"
    }
  },
  "cells": [
    {
      "cell_type": "markdown",
      "metadata": {
        "id": "view-in-github",
        "colab_type": "text"
      },
      "source": [
        "<a href=\"https://colab.research.google.com/github/Lancerty/classification-models/blob/main/regression_analysis.ipynb\" target=\"_parent\"><img src=\"https://colab.research.google.com/assets/colab-badge.svg\" alt=\"Open In Colab\"/></a>"
      ]
    },
    {
      "cell_type": "markdown",
      "source": [
        "**IMPORT LIBRARIES**"
      ],
      "metadata": {
        "id": "3lO-ghoqjNa7"
      }
    },
    {
      "cell_type": "code",
      "execution_count": null,
      "metadata": {
        "id": "64I7VJ1TjLsM"
      },
      "outputs": [],
      "source": [
        "import pandas as pd\n",
        "import numpy as np\n",
        "import matplotlib.pyplot as plt\n",
        "import seaborn as sns"
      ]
    },
    {
      "cell_type": "code",
      "source": [
        "from sklearn.model_selection import train_test_split\n",
        "from sklearn.preprocessing import StandardScaler\n",
        "from sklearn.linear_model import LinearRegression\n",
        "from sklearn.metrics import mean_squared_error,r2_score\n",
        "sns.set()\n",
        "sns.set_palette('dark')"
      ],
      "metadata": {
        "id": "NIuVCniujRAQ"
      },
      "execution_count": null,
      "outputs": []
    },
    {
      "cell_type": "markdown",
      "source": [
        "**Data Manipulation**"
      ],
      "metadata": {
        "id": "_WET67TIfa7s"
      }
    },
    {
      "cell_type": "code",
      "source": [
        "df = pd.read_csv('cardata.csv')"
      ],
      "metadata": {
        "id": "r0Oo4hz_sukb"
      },
      "execution_count": null,
      "outputs": []
    },
    {
      "cell_type": "code",
      "source": [
        "df = df.dropna(axis=0)"
      ],
      "metadata": {
        "id": "0ZCHJ6-asyzi"
      },
      "execution_count": null,
      "outputs": []
    },
    {
      "cell_type": "code",
      "source": [
        "X = df.drop('Selling_Price', axis=1)\n",
        "y = df['Present_Price']\n",
        "\n",
        "X_trainval, X_test, y_trainval, y_test = train_test_split(X, y, test_size=0.2, random_state=42)\n",
        "X_train, X_unseen, y_train, y_unseen = train_test_split(X_trainval, y_trainval, test_size=0.125, random_state=42)\n",
        "\n",
        "print(\"Number of training examples: \", X_train.shape[0])\n",
        "print(\"Number of testing examples: \", X_test.shape[0])\n",
        "print(\"Number of unseen examples: \", X_unseen.shape[0])"
      ],
      "metadata": {
        "id": "7nIpWIWgYWGt",
        "colab": {
          "base_uri": "https://localhost:8080/"
        },
        "outputId": "4a4b0b82-e555-40b7-9f4e-80cb8aa34cda"
      },
      "execution_count": null,
      "outputs": [
        {
          "output_type": "stream",
          "name": "stdout",
          "text": [
            "Number of training examples:  210\n",
            "Number of testing examples:  61\n",
            "Number of unseen examples:  30\n"
          ]
        }
      ]
    },
    {
      "cell_type": "code",
      "source": [
        "#removing outliers for Selling_Price\n",
        "for x in ['Selling_Price']:\n",
        "  q3, q1 = np.percentile(df.loc[:,x],[75,25])\n",
        "  inter_quart = q3-q1\n",
        "\n",
        "  max = q3+(1.5*inter_quart)\n",
        "  min = q1-(1.5*inter_quart)\n",
        "\n",
        "\n",
        "df.loc[df[x] < min,x] = np.nan\n",
        "df.loc[df[x] > max,x] = np.nan\n"
      ],
      "metadata": {
        "id": "x3O0_Lk5frfN"
      },
      "execution_count": null,
      "outputs": []
    }
  ]
}