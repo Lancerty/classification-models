{
  "nbformat": 4,
  "nbformat_minor": 0,
  "metadata": {
    "colab": {
      "provenance": [],
      "authorship_tag": "ABX9TyPkmKklYUKDYpUEiY7gg7ly",
      "include_colab_link": true
    },
    "kernelspec": {
      "name": "python3",
      "display_name": "Python 3"
    },
    "language_info": {
      "name": "python"
    }
  },
  "cells": [
    {
      "cell_type": "markdown",
      "metadata": {
        "id": "view-in-github",
        "colab_type": "text"
      },
      "source": [
        "<a href=\"https://colab.research.google.com/github/Lancerty/classification-models/blob/main/classification_models.ipynb\" target=\"_parent\"><img src=\"https://colab.research.google.com/assets/colab-badge.svg\" alt=\"Open In Colab\"/></a>"
      ]
    },
    {
      "cell_type": "markdown",
      "source": [
        "**Decision Trees**"
      ],
      "metadata": {
        "id": "VP1mGAHyBqP3"
      }
    },
    {
      "cell_type": "code",
      "execution_count": null,
      "metadata": {
        "id": "BWJTa5Vi_j7w"
      },
      "outputs": [],
      "source": [
        "# Libraries\n",
        "import pandas as pd\n",
        "import matplotlib.pyplot as plt"
      ]
    },
    {
      "cell_type": "code",
      "source": [
        "from sklearn import tree\n",
        "from sklearn.tree import DecisionTreeClassifier"
      ],
      "metadata": {
        "id": "zgzgip_YBkKL"
      },
      "execution_count": null,
      "outputs": []
    },
    {
      "cell_type": "markdown",
      "source": [
        "**Data Set**"
      ],
      "metadata": {
        "id": "-pONwpk8iFut"
      }
    },
    {
      "cell_type": "code",
      "source": [
        "df =pd.read_csv('churndata.csv')"
      ],
      "metadata": {
        "id": "sIVy-NcIh531"
      },
      "execution_count": null,
      "outputs": []
    },
    {
      "cell_type": "code",
      "source": [
        "X = df.drop(['Account Length', 'Churn?'], axis =1)\n",
        "Y = df['Churn?']"
      ],
      "metadata": {
        "id": "zLv2NHM6h9Sp"
      },
      "execution_count": null,
      "outputs": []
    },
    {
      "cell_type": "markdown",
      "source": [
        "**Data Splitting**"
      ],
      "metadata": {
        "id": "RsWNupFMiATY"
      }
    },
    {
      "cell_type": "code",
      "source": [
        "X_train, X_test = train_test_split(df, test_size=.30)"
      ],
      "metadata": {
        "id": "9YhdRUXHh-zp"
      },
      "execution_count": null,
      "outputs": []
    },
    {
      "cell_type": "markdown",
      "source": [
        "Evaluation and Fitting"
      ],
      "metadata": {
        "id": "Pey-hQ4fiLP4"
      }
    },
    {
      "cell_type": "code",
      "source": [
        "clf = lw.RIPPER()\n",
        "clf.fit(X_train, class_feat='Churn?',pos_class='True.', random_state=42)\n",
        "clf"
      ],
      "metadata": {
        "id": "0o_PM_ihiNSi"
      },
      "execution_count": null,
      "outputs": []
    },
    {
      "cell_type": "code",
      "source": [
        "clf.ruleset_.out_pretty()"
      ],
      "metadata": {
        "id": "JJUwY_pAiOy4"
      },
      "execution_count": null,
      "outputs": []
    }
  ]
}